{
 "cells": [
  {
   "cell_type": "markdown",
   "id": "5076a83f-7cf9-48d9-bd36-33f383dbbaf7",
   "metadata": {},
   "source": [
    "# Comparison\n",
    "\n",
    "| n | SageMath | python  | numpy   | cython  | cython+numpy | C (print) |\n",
    "| - | -------- | ------  | -----   | ------  | ------------ | --------- |\n",
    "| 4 | 482 µs   | 30.2 µs | 163 µs  | 14.3 µs | 125 µs       | 33.9 µs   |\n",
    "| 5 | 1.69 ms  | 124 µs  | 708 µs  | 58.5 µs | 557 µs       | 37.8 µs   |\n",
    "| 6 | 6.33 ms  | 504 µs  | 2.98 ms | 236 µs  | 2.46 ms      | 53.5 µs   |\n",
    "| 7 | 23.4 ms  | 2.05 ms | 12.6 ms | 966 µs  | 10.7 ms      | 115 µs    |\n",
    "| 8 | 90 ms    | 8.16 ms | 54.6 ms | 3.92 ms | 45.4 ms      | 358 µs    |\n",
    "| 9 |          | 33.3 ms |         |         |              | 1.41 ms   |"
   ]
  },
  {
   "cell_type": "markdown",
   "id": "50c4fa95-f029-4ce2-bc08-51d6ce971e90",
   "metadata": {
    "jp-MarkdownHeadingCollapsed": true
   },
   "source": [
    "# SageMath: `IntegerListsLex`"
   ]
  },
  {
   "cell_type": "code",
   "execution_count": 1,
   "id": "ab257c8d-5397-441d-bc14-326df9579c94",
   "metadata": {},
   "outputs": [],
   "source": [
    "reset()"
   ]
  },
  {
   "cell_type": "code",
   "execution_count": 2,
   "id": "0268d707-a02f-46fb-9457-25e01f51a14f",
   "metadata": {},
   "outputs": [],
   "source": [
    "def go(n):\n",
    "    X = IntegerListsLex(n, length=n).list()"
   ]
  },
  {
   "cell_type": "code",
   "execution_count": 3,
   "id": "1d68abb6-aba6-4484-b175-8af9bb92dbe2",
   "metadata": {},
   "outputs": [
    {
     "name": "stdout",
     "output_type": "stream",
     "text": [
      "492 µs ± 2.51 µs per loop (mean ± std. dev. of 7 runs, 1,000 loops each)\n"
     ]
    }
   ],
   "source": [
    "%%timeit\n",
    "go(4)"
   ]
  },
  {
   "cell_type": "code",
   "execution_count": 4,
   "id": "6fecd01c-9362-4155-ba62-f87d096389aa",
   "metadata": {},
   "outputs": [
    {
     "name": "stdout",
     "output_type": "stream",
     "text": [
      "1.79 ms ± 44.8 µs per loop (mean ± std. dev. of 7 runs, 1,000 loops each)\n"
     ]
    }
   ],
   "source": [
    "%%timeit\n",
    "go(5)"
   ]
  },
  {
   "cell_type": "code",
   "execution_count": 5,
   "id": "bdb21e94-a11e-4c09-ab85-c44b6b6d0875",
   "metadata": {},
   "outputs": [
    {
     "name": "stdout",
     "output_type": "stream",
     "text": [
      "6.52 ms ± 44.9 µs per loop (mean ± std. dev. of 7 runs, 100 loops each)\n"
     ]
    }
   ],
   "source": [
    "%%timeit\n",
    "go(6)"
   ]
  },
  {
   "cell_type": "code",
   "execution_count": 6,
   "id": "abad302e-3c48-45d0-ade6-df02e8bf335a",
   "metadata": {},
   "outputs": [
    {
     "name": "stdout",
     "output_type": "stream",
     "text": [
      "24.4 ms ± 155 µs per loop (mean ± std. dev. of 7 runs, 10 loops each)\n"
     ]
    }
   ],
   "source": [
    "%%timeit\n",
    "go(7)"
   ]
  },
  {
   "cell_type": "code",
   "execution_count": 7,
   "id": "961a4647-8510-41aa-a6ce-5f187c88449a",
   "metadata": {},
   "outputs": [
    {
     "name": "stdout",
     "output_type": "stream",
     "text": [
      "92.9 ms ± 950 µs per loop (mean ± std. dev. of 7 runs, 10 loops each)\n"
     ]
    }
   ],
   "source": [
    "%%timeit\n",
    "go(8)"
   ]
  },
  {
   "cell_type": "code",
   "execution_count": null,
   "id": "5ccbf86b-74a5-40bb-bf83-e10504523c9e",
   "metadata": {},
   "outputs": [],
   "source": []
  },
  {
   "cell_type": "markdown",
   "id": "4e18b2f0-8a8e-4f57-83c8-6624064c89c6",
   "metadata": {
    "jp-MarkdownHeadingCollapsed": true
   },
   "source": [
    "# python"
   ]
  },
  {
   "cell_type": "code",
   "execution_count": 8,
   "id": "3dce175d-0e85-429f-a016-24733b5a955a",
   "metadata": {},
   "outputs": [],
   "source": [
    "reset()"
   ]
  },
  {
   "cell_type": "code",
   "execution_count": 9,
   "id": "e740c9e1-226d-4360-a84f-d6fbbd7a8068",
   "metadata": {},
   "outputs": [
    {
     "name": "stdout",
     "output_type": "stream",
     "text": [
      "/Users/saliola/git-repos/nonnegative_integer_matrices/python\n"
     ]
    }
   ],
   "source": [
    "cd python"
   ]
  },
  {
   "cell_type": "code",
   "execution_count": 10,
   "id": "a64d9106-c8cd-4d12-b959-a5652563263c",
   "metadata": {},
   "outputs": [
    {
     "name": "stdout",
     "output_type": "stream",
     "text": [
      "[[0, 3], [0, 1], [5, 0]]\n",
      "[[0, 3], [1, 0], [4, 1]]\n",
      "[[1, 2], [0, 1], [4, 1]]\n",
      "[[1, 2], [1, 0], [3, 2]]\n",
      "[[2, 1], [0, 1], [3, 2]]\n",
      "[[2, 1], [1, 0], [2, 3]]\n",
      "[[3, 0], [0, 1], [2, 3]]\n",
      "[[3, 0], [1, 0], [1, 4]]\n"
     ]
    }
   ],
   "source": [
    "%run nonneg_int_matrices.py"
   ]
  },
  {
   "cell_type": "code",
   "execution_count": 13,
   "id": "df2657c5-f4a7-4ebc-97ed-93b3ac5d9ee7",
   "metadata": {},
   "outputs": [],
   "source": [
    "def go(n):\n",
    "    X = list(nonneg_int_vectors_iter(n, [n] * n))"
   ]
  },
  {
   "cell_type": "code",
   "execution_count": 14,
   "id": "39daddb4-ace7-4a9d-93e6-4fee5f2837e2",
   "metadata": {},
   "outputs": [
    {
     "name": "stdout",
     "output_type": "stream",
     "text": [
      "30.3 µs ± 195 ns per loop (mean ± std. dev. of 7 runs, 10,000 loops each)\n"
     ]
    }
   ],
   "source": [
    "%%timeit\n",
    "go(4)"
   ]
  },
  {
   "cell_type": "code",
   "execution_count": 15,
   "id": "c52ee48d-6655-4a2b-b77d-ac1dc18b0c9c",
   "metadata": {},
   "outputs": [
    {
     "name": "stdout",
     "output_type": "stream",
     "text": [
      "125 µs ± 437 ns per loop (mean ± std. dev. of 7 runs, 10,000 loops each)\n"
     ]
    }
   ],
   "source": [
    "%%timeit\n",
    "go(5)"
   ]
  },
  {
   "cell_type": "code",
   "execution_count": 16,
   "id": "09539f74-8d28-47b1-a534-00c381d3eb69",
   "metadata": {},
   "outputs": [
    {
     "name": "stdout",
     "output_type": "stream",
     "text": [
      "511 µs ± 3.1 µs per loop (mean ± std. dev. of 7 runs, 1,000 loops each)\n"
     ]
    }
   ],
   "source": [
    "%%timeit\n",
    "go(6)"
   ]
  },
  {
   "cell_type": "code",
   "execution_count": 17,
   "id": "436e1118-dffd-44a5-833f-8150f923e340",
   "metadata": {},
   "outputs": [
    {
     "name": "stdout",
     "output_type": "stream",
     "text": [
      "2.06 ms ± 6.87 µs per loop (mean ± std. dev. of 7 runs, 100 loops each)\n"
     ]
    }
   ],
   "source": [
    "%%timeit\n",
    "go(7)"
   ]
  },
  {
   "cell_type": "code",
   "execution_count": 18,
   "id": "167d6f67-cf38-4210-9b4f-99a57b1b68d2",
   "metadata": {},
   "outputs": [
    {
     "name": "stdout",
     "output_type": "stream",
     "text": [
      "8.27 ms ± 58.6 µs per loop (mean ± std. dev. of 7 runs, 100 loops each)\n"
     ]
    }
   ],
   "source": [
    "%%timeit\n",
    "go(8)"
   ]
  },
  {
   "cell_type": "code",
   "execution_count": 19,
   "id": "05c54871-7bfd-4d43-8111-d30896b0de95",
   "metadata": {},
   "outputs": [
    {
     "name": "stdout",
     "output_type": "stream",
     "text": [
      "33.3 ms ± 303 µs per loop (mean ± std. dev. of 7 runs, 10 loops each)\n"
     ]
    }
   ],
   "source": [
    "%%timeit\n",
    "go(9)"
   ]
  },
  {
   "cell_type": "code",
   "execution_count": null,
   "id": "21e17fec-5fd1-424a-b4fb-077e0b13bb8f",
   "metadata": {},
   "outputs": [],
   "source": []
  },
  {
   "cell_type": "markdown",
   "id": "91b95e5b-0612-4ff4-8c14-6dee11da5004",
   "metadata": {
    "jp-MarkdownHeadingCollapsed": true
   },
   "source": [
    "# numpy"
   ]
  },
  {
   "cell_type": "code",
   "execution_count": 20,
   "id": "7e5c0fac-7d01-4adf-abb0-99365cb99df1",
   "metadata": {},
   "outputs": [],
   "source": [
    "reset()"
   ]
  },
  {
   "cell_type": "code",
   "execution_count": 21,
   "id": "d3ab8443-847f-4f99-b8bb-57afe61aed11",
   "metadata": {},
   "outputs": [
    {
     "name": "stdout",
     "output_type": "stream",
     "text": [
      "/Users/saliola/git-repos/nonnegative_integer_matrices/numpy\n"
     ]
    }
   ],
   "source": [
    "cd ../numpy/"
   ]
  },
  {
   "cell_type": "code",
   "execution_count": 22,
   "id": "d1f98233-83f0-46a1-bc69-703f967d8005",
   "metadata": {},
   "outputs": [
    {
     "name": "stdout",
     "output_type": "stream",
     "text": [
      "[[0 3]\n",
      " [0 1]\n",
      " [5 0]]\n",
      "[[0 3]\n",
      " [1 0]\n",
      " [4 1]]\n",
      "[[1 2]\n",
      " [0 1]\n",
      " [4 1]]\n",
      "[[1 2]\n",
      " [1 0]\n",
      " [3 2]]\n",
      "[[2 1]\n",
      " [0 1]\n",
      " [3 2]]\n",
      "[[2 1]\n",
      " [1 0]\n",
      " [2 3]]\n",
      "[[3 0]\n",
      " [0 1]\n",
      " [2 3]]\n",
      "[[3 0]\n",
      " [1 0]\n",
      " [1 4]]\n"
     ]
    }
   ],
   "source": [
    "%run nonneg_int_matrices.py"
   ]
  },
  {
   "cell_type": "code",
   "execution_count": 23,
   "id": "30606773-5c11-4c27-851d-ff84a9574e7e",
   "metadata": {},
   "outputs": [],
   "source": [
    "def go(n):\n",
    "    X = list(nonneg_int_vectors_iter(n, [n] * n))"
   ]
  },
  {
   "cell_type": "code",
   "execution_count": 24,
   "id": "43f29eab-d872-4dae-8663-77e475ea43ab",
   "metadata": {},
   "outputs": [
    {
     "name": "stdout",
     "output_type": "stream",
     "text": [
      "168 µs ± 2.35 µs per loop (mean ± std. dev. of 7 runs, 10,000 loops each)\n"
     ]
    }
   ],
   "source": [
    "%%timeit\n",
    "go(4)"
   ]
  },
  {
   "cell_type": "code",
   "execution_count": 25,
   "id": "48ed15d3-f732-4f6e-82e7-4a0f637876c6",
   "metadata": {},
   "outputs": [
    {
     "name": "stdout",
     "output_type": "stream",
     "text": [
      "718 µs ± 5.39 µs per loop (mean ± std. dev. of 7 runs, 1,000 loops each)\n"
     ]
    }
   ],
   "source": [
    "%%timeit\n",
    "go(5)"
   ]
  },
  {
   "cell_type": "code",
   "execution_count": 26,
   "id": "6b9247ea-d690-48f2-b8ef-72670b19be23",
   "metadata": {},
   "outputs": [
    {
     "name": "stdout",
     "output_type": "stream",
     "text": [
      "3.09 ms ± 33.5 µs per loop (mean ± std. dev. of 7 runs, 100 loops each)\n"
     ]
    }
   ],
   "source": [
    "%%timeit\n",
    "go(6)"
   ]
  },
  {
   "cell_type": "code",
   "execution_count": 27,
   "id": "998dd311-d9cd-4fda-ae54-8600d55af6ee",
   "metadata": {},
   "outputs": [
    {
     "name": "stdout",
     "output_type": "stream",
     "text": [
      "12.9 ms ± 56.1 µs per loop (mean ± std. dev. of 7 runs, 100 loops each)\n"
     ]
    }
   ],
   "source": [
    "%%timeit\n",
    "go(7)"
   ]
  },
  {
   "cell_type": "code",
   "execution_count": 28,
   "id": "86af4357-b576-4c46-9c13-ea0e085bd5be",
   "metadata": {},
   "outputs": [
    {
     "name": "stdout",
     "output_type": "stream",
     "text": [
      "54.6 ms ± 285 µs per loop (mean ± std. dev. of 7 runs, 10 loops each)\n"
     ]
    }
   ],
   "source": [
    "%%timeit\n",
    "go(8)"
   ]
  },
  {
   "cell_type": "code",
   "execution_count": null,
   "id": "768b82fa-18c6-423f-9cef-2c9d74a39b8c",
   "metadata": {},
   "outputs": [],
   "source": []
  },
  {
   "cell_type": "markdown",
   "id": "7ee2e96b-7233-4bfe-9b42-f7392db1b0ce",
   "metadata": {
    "jp-MarkdownHeadingCollapsed": true
   },
   "source": [
    "# cython"
   ]
  },
  {
   "cell_type": "code",
   "execution_count": 29,
   "id": "2e29e5e9-02b4-4a1b-ad54-54d573e01a74",
   "metadata": {},
   "outputs": [],
   "source": [
    "reset()"
   ]
  },
  {
   "cell_type": "code",
   "execution_count": 30,
   "id": "446c96c4-85b7-4f89-bf5b-4cd2edec31e1",
   "metadata": {},
   "outputs": [
    {
     "name": "stdout",
     "output_type": "stream",
     "text": [
      "/Users/saliola/git-repos/nonnegative_integer_matrices/cython\n"
     ]
    }
   ],
   "source": [
    "cd ../cython"
   ]
  },
  {
   "cell_type": "code",
   "execution_count": 31,
   "id": "bfbdc614-2602-41e6-aa12-1d0dc955cd09",
   "metadata": {},
   "outputs": [
    {
     "name": "stdout",
     "output_type": "stream",
     "text": [
      "Compiling nonneg_int_matrices.pyx because it changed.\n",
      "[1/1] Cythonizing nonneg_int_matrices.pyx\n",
      "running build_ext\n",
      "building 'nonneg_int_matrices' extension\n",
      "creating build\n",
      "creating build/temp.macosx-10.9-universal2-cpython-39\n",
      "gcc -Wno-unused-result -Wsign-compare -Wunreachable-code -fno-common -dynamic -DNDEBUG -g -fwrapv -O3 -Wall -iwithsysroot/System/Library/Frameworks/System.framework/PrivateHeaders -iwithsysroot/Applications/Xcode.app/Contents/Developer/Library/Frameworks/Python3.framework/Versions/3.9/Headers -Werror=implicit-function-declaration -Wno-error=unreachable-code -I/Users/saliola/Applications/sage-10.5/local/var/lib/sage/venv-python3.9/include -I/Library/Developer/CommandLineTools/Library/Frameworks/Python3.framework/Versions/3.9/include/python3.9 -c nonneg_int_matrices.c -o build/temp.macosx-10.9-universal2-cpython-39/nonneg_int_matrices.o\n"
     ]
    },
    {
     "name": "stderr",
     "output_type": "stream",
     "text": [
      "nonneg_int_matrices.c:5508:21: warning: fallthrough annotation in unreachable code [-Wunreachable-code-fallthrough]\n",
      " 5508 |                     CYTHON_FALLTHROUGH;\n",
      "      |                     ^\n",
      "nonneg_int_matrices.c:556:34: note: expanded from macro 'CYTHON_FALLTHROUGH'\n",
      "  556 |       #define CYTHON_FALLTHROUGH __attribute__((fallthrough))\n",
      "      |                                  ^\n",
      "nonneg_int_matrices.c:5519:21: warning: fallthrough annotation in unreachable code [-Wunreachable-code-fallthrough]\n",
      " 5519 |                     CYTHON_FALLTHROUGH;\n",
      "      |                     ^\n",
      "nonneg_int_matrices.c:556:34: note: expanded from macro 'CYTHON_FALLTHROUGH'\n",
      "  556 |       #define CYTHON_FALLTHROUGH __attribute__((fallthrough))\n",
      "      |                                  ^\n",
      "nonneg_int_matrices.c:6510:26: warning: code will never be executed [-Wunreachable-code]\n",
      " 6510 |                 module = PyImport_ImportModuleLevelObject(\n",
      "      |                          ^~~~~~~~~~~~~~~~~~~~~~~~~~~~~~~~\n",
      "3 warnings generated.\n"
     ]
    },
    {
     "name": "stdout",
     "output_type": "stream",
     "text": [
      "creating build/lib.macosx-10.9-universal2-cpython-39\n",
      "gcc -bundle -undefined dynamic_lookup -Wl,-headerpad,0x1000 -L/Users/saliola/Applications/sage-10.5/local/lib build/temp.macosx-10.9-universal2-cpython-39/nonneg_int_matrices.o -o build/lib.macosx-10.9-universal2-cpython-39/nonneg_int_matrices.cpython-39-darwin.so\n",
      "copying build/lib.macosx-10.9-universal2-cpython-39/nonneg_int_matrices.cpython-39-darwin.so -> \n"
     ]
    }
   ],
   "source": [
    "%%bash\n",
    "sage --python setup.py build_ext --inplace"
   ]
  },
  {
   "cell_type": "code",
   "execution_count": 32,
   "id": "c5a8c593-e882-4b8b-8a45-f0e6a054cf5d",
   "metadata": {},
   "outputs": [],
   "source": [
    "from nonneg_int_matrices import nonneg_int_vectors_iter"
   ]
  },
  {
   "cell_type": "code",
   "execution_count": 33,
   "id": "9cd8f6b3-495a-489a-965b-78a3e1d1bc1f",
   "metadata": {},
   "outputs": [],
   "source": [
    "def go(n):\n",
    "    X = list(nonneg_int_vectors_iter(n, [n] * n))"
   ]
  },
  {
   "cell_type": "code",
   "execution_count": 34,
   "id": "21528f58-86ad-4e02-869c-31113b757aa7",
   "metadata": {},
   "outputs": [
    {
     "name": "stdout",
     "output_type": "stream",
     "text": [
      "14.5 µs ± 197 ns per loop (mean ± std. dev. of 7 runs, 100,000 loops each)\n"
     ]
    }
   ],
   "source": [
    "%%timeit\n",
    "go(4)"
   ]
  },
  {
   "cell_type": "code",
   "execution_count": 35,
   "id": "961b4410-3414-4861-aecb-230336c606d7",
   "metadata": {},
   "outputs": [
    {
     "name": "stdout",
     "output_type": "stream",
     "text": [
      "58.2 µs ± 689 ns per loop (mean ± std. dev. of 7 runs, 10,000 loops each)\n"
     ]
    }
   ],
   "source": [
    "%%timeit\n",
    "go(5)"
   ]
  },
  {
   "cell_type": "code",
   "execution_count": 36,
   "id": "448142c9-8570-47bb-9ba8-97330030c1c0",
   "metadata": {},
   "outputs": [
    {
     "name": "stdout",
     "output_type": "stream",
     "text": [
      "235 µs ± 1.79 µs per loop (mean ± std. dev. of 7 runs, 1,000 loops each)\n"
     ]
    }
   ],
   "source": [
    "%%timeit\n",
    "go(6)"
   ]
  },
  {
   "cell_type": "code",
   "execution_count": 37,
   "id": "3ab3ea43-5e0b-4651-b365-79cc99a99620",
   "metadata": {},
   "outputs": [
    {
     "name": "stdout",
     "output_type": "stream",
     "text": [
      "954 µs ± 5.84 µs per loop (mean ± std. dev. of 7 runs, 1,000 loops each)\n"
     ]
    }
   ],
   "source": [
    "%%timeit\n",
    "go(7)"
   ]
  },
  {
   "cell_type": "code",
   "execution_count": 38,
   "id": "3762ddd3-e79f-4fd2-be9c-e03f4d05cf8b",
   "metadata": {},
   "outputs": [
    {
     "name": "stdout",
     "output_type": "stream",
     "text": [
      "3.9 ms ± 44.9 µs per loop (mean ± std. dev. of 7 runs, 100 loops each)\n"
     ]
    }
   ],
   "source": [
    "%%timeit\n",
    "go(8)"
   ]
  },
  {
   "cell_type": "code",
   "execution_count": null,
   "id": "efd23621-b45a-490c-91e8-bc6142457422",
   "metadata": {},
   "outputs": [],
   "source": []
  },
  {
   "cell_type": "code",
   "execution_count": null,
   "id": "ef17dadd-c68e-4d98-bccb-aff227be4c54",
   "metadata": {},
   "outputs": [],
   "source": []
  },
  {
   "cell_type": "code",
   "execution_count": null,
   "id": "4f790384-ed6c-420b-8646-c6779551b15a",
   "metadata": {},
   "outputs": [],
   "source": []
  },
  {
   "cell_type": "markdown",
   "id": "ca9d0ea8-e8e1-493f-9268-3fdd6a831572",
   "metadata": {},
   "source": [
    "# cython + numpy"
   ]
  },
  {
   "cell_type": "code",
   "execution_count": 1,
   "id": "3a05e174-d083-4b87-8804-57942ca664c0",
   "metadata": {},
   "outputs": [],
   "source": [
    "reset()"
   ]
  },
  {
   "cell_type": "code",
   "execution_count": 4,
   "id": "07af729e-a8c4-4368-bbd7-8775e4db551b",
   "metadata": {},
   "outputs": [
    {
     "name": "stdout",
     "output_type": "stream",
     "text": [
      "/Users/saliola/git-repos/nonnegative_integer_matrices/cython-with-numpy\n"
     ]
    }
   ],
   "source": [
    "cd ../cython-with-numpy"
   ]
  },
  {
   "cell_type": "code",
   "execution_count": 5,
   "id": "992c262b-484f-47b9-a6f4-fbc80daae4d3",
   "metadata": {},
   "outputs": [
    {
     "name": "stdout",
     "output_type": "stream",
     "text": [
      "running build_ext\n",
      "copying build/lib.macosx-10.9-universal2-cpython-39/nonneg_int_matrices.cpython-39-darwin.so -> \n"
     ]
    }
   ],
   "source": [
    "%%bash\n",
    "sage --python setup.py build_ext --inplace"
   ]
  },
  {
   "cell_type": "code",
   "execution_count": 6,
   "id": "09126615-0af3-4d56-8d78-ecf92423a59c",
   "metadata": {},
   "outputs": [],
   "source": [
    "from nonneg_int_matrices import nonneg_int_vectors_iter\n",
    "import numpy as np"
   ]
  },
  {
   "cell_type": "code",
   "execution_count": 7,
   "id": "01fa0d91-9250-4f59-8c93-82882aa8b0dc",
   "metadata": {},
   "outputs": [],
   "source": [
    "def go(n):\n",
    "    X = list(nonneg_int_vectors_iter(n, np.array([n] * n)))"
   ]
  },
  {
   "cell_type": "code",
   "execution_count": 8,
   "id": "710f34db-6fbf-4a95-a017-1c813ffa4cf1",
   "metadata": {},
   "outputs": [
    {
     "name": "stdout",
     "output_type": "stream",
     "text": [
      "125 µs ± 1.12 µs per loop (mean ± std. dev. of 7 runs, 10,000 loops each)\n"
     ]
    }
   ],
   "source": [
    "%%timeit\n",
    "go(4)"
   ]
  },
  {
   "cell_type": "code",
   "execution_count": 9,
   "id": "ea0d24ad-99e3-47e8-bc84-5d7c88d2ae25",
   "metadata": {},
   "outputs": [
    {
     "name": "stdout",
     "output_type": "stream",
     "text": [
      "570 µs ± 7.33 µs per loop (mean ± std. dev. of 7 runs, 1,000 loops each)\n"
     ]
    }
   ],
   "source": [
    "%%timeit\n",
    "go(5)"
   ]
  },
  {
   "cell_type": "code",
   "execution_count": 10,
   "id": "f1d98d06-7a71-4a39-8735-4ccf49866d8c",
   "metadata": {},
   "outputs": [
    {
     "name": "stdout",
     "output_type": "stream",
     "text": [
      "2.5 ms ± 41.3 µs per loop (mean ± std. dev. of 7 runs, 100 loops each)\n"
     ]
    }
   ],
   "source": [
    "%%timeit\n",
    "go(6)"
   ]
  },
  {
   "cell_type": "code",
   "execution_count": 11,
   "id": "6cf341d4-8281-46c4-9876-ff1b0c521b5e",
   "metadata": {},
   "outputs": [
    {
     "name": "stdout",
     "output_type": "stream",
     "text": [
      "10.7 ms ± 87.1 µs per loop (mean ± std. dev. of 7 runs, 100 loops each)\n"
     ]
    }
   ],
   "source": [
    "%%timeit\n",
    "go(7)"
   ]
  },
  {
   "cell_type": "code",
   "execution_count": 12,
   "id": "2df0eb61-e95e-42dd-b5bc-3d88bc15e86e",
   "metadata": {},
   "outputs": [
    {
     "name": "stdout",
     "output_type": "stream",
     "text": [
      "45.9 ms ± 524 µs per loop (mean ± std. dev. of 7 runs, 10 loops each)\n"
     ]
    }
   ],
   "source": [
    "%%timeit\n",
    "go(8)"
   ]
  },
  {
   "cell_type": "code",
   "execution_count": null,
   "id": "3cb7b170-c21d-4cbd-a9f6-f926b3c85d1b",
   "metadata": {},
   "outputs": [],
   "source": []
  },
  {
   "cell_type": "code",
   "execution_count": null,
   "id": "14ea4b14-c2b4-4416-9554-9c1c2753214f",
   "metadata": {},
   "outputs": [],
   "source": []
  },
  {
   "cell_type": "code",
   "execution_count": null,
   "id": "362e2932-bc8e-4e6a-b8c8-f1d9edae0fe7",
   "metadata": {},
   "outputs": [],
   "source": []
  },
  {
   "cell_type": "markdown",
   "id": "ce0d01ae-1d48-49fe-8aac-ccb924ce2a05",
   "metadata": {},
   "source": [
    "# C"
   ]
  },
  {
   "cell_type": "code",
   "execution_count": 13,
   "id": "e6a1015b-ee69-4d3f-9796-412cd14cea8d",
   "metadata": {},
   "outputs": [],
   "source": [
    "reset()"
   ]
  },
  {
   "cell_type": "code",
   "execution_count": 14,
   "id": "6929b525-7d6f-43e0-bca7-95bdb1b0a9b5",
   "metadata": {},
   "outputs": [
    {
     "name": "stdout",
     "output_type": "stream",
     "text": [
      "/Users/saliola/git-repos/nonnegative_integer_matrices/c-python-wrapper\n"
     ]
    }
   ],
   "source": [
    "cd ../c-python-wrapper"
   ]
  },
  {
   "cell_type": "code",
   "execution_count": 15,
   "id": "db5ad0e6-213a-45b0-bf22-672c22fcdfe3",
   "metadata": {},
   "outputs": [
    {
     "name": "stdout",
     "output_type": "stream",
     "text": [
      "gcc -fPIC -shared -o nonneg_int_vectors.so nonneg_int_vectors.c\n"
     ]
    }
   ],
   "source": [
    "%%bash\n",
    "make python-wrapper"
   ]
  },
  {
   "cell_type": "code",
   "execution_count": 16,
   "id": "5b73a46f-65bd-47e0-abde-76b3cf798eec",
   "metadata": {},
   "outputs": [],
   "source": [
    "from nonneg_int_vectors_wrapper import print_nonneg_int_vectors"
   ]
  },
  {
   "cell_type": "code",
   "execution_count": 17,
   "id": "8fe1246a-8787-448d-adc8-a0626510bae2",
   "metadata": {},
   "outputs": [],
   "source": [
    "def go(n):\n",
    "    print_nonneg_int_vectors(n, [n] * n)"
   ]
  },
  {
   "cell_type": "code",
   "execution_count": 19,
   "id": "6ba3d4c3-0616-4dc9-82e8-f2eae3f79878",
   "metadata": {},
   "outputs": [
    {
     "name": "stdout",
     "output_type": "stream",
     "text": [
      "33.3 µs ± 308 ns per loop (mean ± std. dev. of 7 runs, 10,000 loops each)\n"
     ]
    }
   ],
   "source": [
    "%timeit go(4)"
   ]
  },
  {
   "cell_type": "code",
   "execution_count": 20,
   "id": "c7db3973-13be-4e82-8463-7ffd35b882d7",
   "metadata": {},
   "outputs": [
    {
     "name": "stdout",
     "output_type": "stream",
     "text": [
      "37.8 µs ± 454 ns per loop (mean ± std. dev. of 7 runs, 10,000 loops each)\n"
     ]
    }
   ],
   "source": [
    "%timeit go(5)"
   ]
  },
  {
   "cell_type": "code",
   "execution_count": 21,
   "id": "15d3d7f3-7172-4fdf-b9c6-22b88006675a",
   "metadata": {},
   "outputs": [
    {
     "name": "stdout",
     "output_type": "stream",
     "text": [
      "52.9 µs ± 229 ns per loop (mean ± std. dev. of 7 runs, 10,000 loops each)\n"
     ]
    }
   ],
   "source": [
    "%timeit go(6)"
   ]
  },
  {
   "cell_type": "code",
   "execution_count": 22,
   "id": "23aee9ce-0805-4326-9472-319f3d967880",
   "metadata": {},
   "outputs": [
    {
     "name": "stdout",
     "output_type": "stream",
     "text": [
      "115 µs ± 1.21 µs per loop (mean ± std. dev. of 7 runs, 10,000 loops each)\n"
     ]
    }
   ],
   "source": [
    "%timeit go(7)"
   ]
  },
  {
   "cell_type": "code",
   "execution_count": 23,
   "id": "1bfc3567-ea8e-41bb-b8e4-52fc95a6fa15",
   "metadata": {},
   "outputs": [
    {
     "name": "stdout",
     "output_type": "stream",
     "text": [
      "356 µs ± 2.09 µs per loop (mean ± std. dev. of 7 runs, 1,000 loops each)\n"
     ]
    }
   ],
   "source": [
    "%timeit go(8)"
   ]
  },
  {
   "cell_type": "code",
   "execution_count": 24,
   "id": "26ddcb3e-423e-46c2-aaee-e5ad56ddddfe",
   "metadata": {},
   "outputs": [
    {
     "name": "stdout",
     "output_type": "stream",
     "text": [
      "1.39 ms ± 65.2 µs per loop (mean ± std. dev. of 7 runs, 1,000 loops each)\n"
     ]
    }
   ],
   "source": [
    "%timeit go(9)"
   ]
  },
  {
   "cell_type": "code",
   "execution_count": null,
   "id": "4ef9bb60-1ebd-4322-822a-5bc5314bdd4d",
   "metadata": {},
   "outputs": [],
   "source": []
  },
  {
   "cell_type": "code",
   "execution_count": null,
   "id": "93b0e14d-352a-40ad-9832-9c8d3a1b95e0",
   "metadata": {},
   "outputs": [],
   "source": []
  },
  {
   "cell_type": "code",
   "execution_count": null,
   "id": "fef6987b-c3b8-480d-ab31-77bbb6b77ec6",
   "metadata": {},
   "outputs": [],
   "source": []
  }
 ],
 "metadata": {
  "kernelspec": {
   "display_name": "SageMath 10.5",
   "language": "sage",
   "name": "sagemath"
  },
  "language_info": {
   "codemirror_mode": {
    "name": "ipython",
    "version": 3
   },
   "file_extension": ".py",
   "mimetype": "text/x-python",
   "name": "python",
   "nbconvert_exporter": "python",
   "pygments_lexer": "ipython3",
   "version": "3.9.6"
  }
 },
 "nbformat": 4,
 "nbformat_minor": 5
}
